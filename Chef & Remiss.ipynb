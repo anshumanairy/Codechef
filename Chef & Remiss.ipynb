{
 "cells": [
  {
   "cell_type": "code",
   "execution_count": 2,
   "metadata": {},
   "outputs": [
    {
     "name": "stdout",
     "output_type": "stream",
     "text": [
      "19 36\n",
      "20 38\n"
     ]
    }
   ],
   "source": [
    "def guard():\n",
    "    T=int(input(\"\"))\n",
    "    list1=[\"\"]*T\n",
    "    for i in range(0,T):\n",
    "        c=input(\"\")\n",
    "        a,b=map(int,c.split())\n",
    "        list1[i]=str(a).trim+\" \"+str(a+b)\n",
    "    print(*list1,sep='\\n')\n",
    "guard()"
   ]
  },
  {
   "cell_type": "code",
   "execution_count": null,
   "metadata": {},
   "outputs": [],
   "source": []
  }
 ],
 "metadata": {
  "kernelspec": {
   "display_name": "Python 3",
   "language": "python",
   "name": "python3"
  },
  "language_info": {
   "codemirror_mode": {
    "name": "ipython",
    "version": 3
   },
   "file_extension": ".py",
   "mimetype": "text/x-python",
   "name": "python",
   "nbconvert_exporter": "python",
   "pygments_lexer": "ipython3",
   "version": "3.6.5"
  }
 },
 "nbformat": 4,
 "nbformat_minor": 2
}
