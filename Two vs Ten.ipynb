{
 "cells": [
  {
   "cell_type": "code",
   "execution_count": 3,
   "metadata": {},
   "outputs": [
    {
     "name": "stdout",
     "output_type": "stream",
     "text": [
      "0\n",
      "1\n",
      "-1\n"
     ]
    }
   ],
   "source": [
    "def two():\n",
    "    T=int(input(\"\"))\n",
    "    list1=[\"\"]*T\n",
    "    for i in range(0,T):\n",
    "        x=int(input(\"\"))\n",
    "        f=x%10\n",
    "        \n",
    "        if f==0:\n",
    "            list1[i]=0\n",
    "            \n",
    "        elif(f!=5):\n",
    "            list1[i]=-1\n",
    "        \n",
    "        else:\n",
    "            e=0\n",
    "            while(e!=1):\n",
    "                x=x*2\n",
    "                if(x%10==0):\n",
    "                    e=1\n",
    "                    list1[i]=1\n",
    "                \n",
    "    print(*list1,sep='\\n')\n",
    "two()"
   ]
  },
  {
   "cell_type": "code",
   "execution_count": null,
   "metadata": {},
   "outputs": [],
   "source": []
  }
 ],
 "metadata": {
  "kernelspec": {
   "display_name": "Python 3",
   "language": "python",
   "name": "python3"
  },
  "language_info": {
   "codemirror_mode": {
    "name": "ipython",
    "version": 3
   },
   "file_extension": ".py",
   "mimetype": "text/x-python",
   "name": "python",
   "nbconvert_exporter": "python",
   "pygments_lexer": "ipython3",
   "version": "3.6.5"
  }
 },
 "nbformat": 4,
 "nbformat_minor": 2
}
