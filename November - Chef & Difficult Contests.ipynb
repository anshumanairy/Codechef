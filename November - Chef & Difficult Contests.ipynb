{
 "cells": [
  {
   "cell_type": "code",
   "execution_count": 8,
   "metadata": {},
   "outputs": [
    {
     "name": "stdout",
     "output_type": "stream",
     "text": [
      "\n"
     ]
    }
   ],
   "source": [
    "def diff():\n",
    "    T=int(input(\"\"))\n",
    "    list1=[\"\"]*T\n",
    "    for i in range(0,T):\n",
    "        c=input(\"\")\n",
    "        a,b=map(int,c.split())\n",
    "        if(a==b):\n",
    "            list1[i]=\"YES\"\n",
    "        elif(abs(a-b)>2):\n",
    "            list1[i]=\"NO\"\n",
    "        else:\n",
    "            e=0\n",
    "            for j in range(10,0):\n",
    "                for k in range(0,2):\n",
    "                    if k==0:\n",
    "                        a=a+d\n",
    "                        b=b+(d-1)\n",
    "                        if(a==b):\n",
    "                            list1[i]=\"YES\"\n",
    "                            e=e+1\n",
    "                    else:\n",
    "                        a=a+(d-1)\n",
    "                        b=b+d\n",
    "                        if(a==b):\n",
    "                            list1[i]=\"YES\"\n",
    "                            e=e+1\n",
    "            if e==0:\n",
    "                list1[i]==\"NO\"\n",
    "    print(*list1,sep='\\n')\n",
    "diff()"
   ]
  },
  {
   "cell_type": "code",
   "execution_count": null,
   "metadata": {},
   "outputs": [],
   "source": []
  }
 ],
 "metadata": {
  "kernelspec": {
   "display_name": "Python 3",
   "language": "python",
   "name": "python3"
  },
  "language_info": {
   "codemirror_mode": {
    "name": "ipython",
    "version": 3
   },
   "file_extension": ".py",
   "mimetype": "text/x-python",
   "name": "python",
   "nbconvert_exporter": "python",
   "pygments_lexer": "ipython3",
   "version": "3.6.5"
  }
 },
 "nbformat": 4,
 "nbformat_minor": 2
}
