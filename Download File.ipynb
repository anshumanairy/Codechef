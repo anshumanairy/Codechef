{
 "cells": [
  {
   "cell_type": "code",
   "execution_count": 3,
   "metadata": {},
   "outputs": [
    {
     "name": "stdout",
     "output_type": "stream",
     "text": [
      "110\n"
     ]
    }
   ],
   "source": [
    "def download():\n",
    "    TC=int(input(\"\"))\n",
    "    list1=[\"\"]*TC\n",
    "    for i in range(0,TC):\n",
    "        c=input(\"\")\n",
    "        N,K=map(int,c.split())\n",
    "        s=0\n",
    "        for j in range(0,N):\n",
    "            e=input(\"\")\n",
    "            T,D=map(int,e.split())\n",
    "            if K>=T and K>0:\n",
    "                K=K-T\n",
    "                T=0\n",
    "            if T>K:\n",
    "                T=T-K\n",
    "                K=0\n",
    "            s=s+(T*D)\n",
    "        list1[i]=s\n",
    "    print(*list1,sep='\\n')\n",
    "download()"
   ]
  },
  {
   "cell_type": "code",
   "execution_count": null,
   "metadata": {},
   "outputs": [],
   "source": []
  }
 ],
 "metadata": {
  "kernelspec": {
   "display_name": "Python 3",
   "language": "python",
   "name": "python3"
  },
  "language_info": {
   "codemirror_mode": {
    "name": "ipython",
    "version": 3
   },
   "file_extension": ".py",
   "mimetype": "text/x-python",
   "name": "python",
   "nbconvert_exporter": "python",
   "pygments_lexer": "ipython3",
   "version": "3.6.5"
  }
 },
 "nbformat": 4,
 "nbformat_minor": 2
}
