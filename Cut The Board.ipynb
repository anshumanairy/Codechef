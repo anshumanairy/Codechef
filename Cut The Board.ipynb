{
 "cells": [
  {
   "cell_type": "code",
   "execution_count": 6,
   "metadata": {},
   "outputs": [
    {
     "name": "stdout",
     "output_type": "stream",
     "text": [
      "4\n",
      "2 4\n",
      "3 3\n",
      "6 8\n",
      "7 5\n",
      "3\n",
      "4\n",
      "35\n",
      "24\n"
     ]
    }
   ],
   "source": [
    "def board():\n",
    "    T=int(input())\n",
    "    l2=[\"\"]*T\n",
    "    for i in range(0,T):\n",
    "        s=input(\"\")\n",
    "        l1=[\"\"]*2\n",
    "        l1=list(map(int,str(s).split()))\n",
    "        N=l1[0]\n",
    "        M=l1[1]\n",
    "        w=(N*M)-(N+M)+1\n",
    "        l2[i]=w\n",
    "    for i in range(0,T):\n",
    "        print (l2[i])\n",
    "board()"
   ]
  },
  {
   "cell_type": "code",
   "execution_count": null,
   "metadata": {},
   "outputs": [],
   "source": []
  }
 ],
 "metadata": {
  "kernelspec": {
   "display_name": "Python 3",
   "language": "python",
   "name": "python3"
  },
  "language_info": {
   "codemirror_mode": {
    "name": "ipython",
    "version": 3
   },
   "file_extension": ".py",
   "mimetype": "text/x-python",
   "name": "python",
   "nbconvert_exporter": "python",
   "pygments_lexer": "ipython3",
   "version": "3.6.5"
  }
 },
 "nbformat": 4,
 "nbformat_minor": 2
}
