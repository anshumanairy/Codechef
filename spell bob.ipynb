{
 "cells": [
  {
   "cell_type": "code",
   "execution_count": 1,
   "metadata": {},
   "outputs": [
    {
     "name": "stdout",
     "output_type": "stream",
     "text": [
      "0.0005973335881956644\n"
     ]
    }
   ],
   "source": [
    "import timeit\n",
    "start = timeit.default_timer()\n",
    "def chef():\n",
    "    T=int(input(\"\"))\n",
    "    list1=[\"\"]*T\n",
    "    list2=[\"\"]*T\n",
    "    for i in range(0,T):\n",
    "        list1[i]=list(input(\"\"))\n",
    "        list2[i]=list(input(\"\"))\n",
    "        if ((list1[i][0]=='o' or list2[i][0]=='o')and(list1[i][1]=='b' or list2[i][1]=='b')and(list1[i][2]=='b' or list2[i][2]=='b')):\n",
    "            list3[i]=\"yes\"\n",
    "        elif ((list1[i][0]=='b' or list2[i][0]=='b')and(list1[i][1]=='o' or list2[i][1]=='o')and(list1[i][2]=='b' or list2[i][2]=='b')):\n",
    "            list3[i]=\"yes\"\n",
    "        elif ((list1[i][0]=='b' or list2[i][0]=='b')and(list1[i][1]=='b' or list2[i][1]=='b')and(list1[i][2]=='o' or list2[i][2]=='o')):\n",
    "            list3[i]=\"yes\"\n",
    "        else:\n",
    "            list3[i]=\"no\"\n",
    "    print(*list3,sep='\\n')\n",
    "stop = timeit.default_timer()\n",
    "print (stop - start) "
   ]
  },
  {
   "cell_type": "code",
   "execution_count": null,
   "metadata": {},
   "outputs": [
    {
     "name": "stdout",
     "output_type": "stream",
     "text": [
      "3\n",
      "bob\n"
     ]
    }
   ],
   "source": [
    "chef()"
   ]
  },
  {
   "cell_type": "code",
   "execution_count": null,
   "metadata": {},
   "outputs": [],
   "source": []
  }
 ],
 "metadata": {
  "kernelspec": {
   "display_name": "Python 3",
   "language": "python",
   "name": "python3"
  },
  "language_info": {
   "codemirror_mode": {
    "name": "ipython",
    "version": 3
   },
   "file_extension": ".py",
   "mimetype": "text/x-python",
   "name": "python",
   "nbconvert_exporter": "python",
   "pygments_lexer": "ipython3",
   "version": "3.6.5"
  }
 },
 "nbformat": 4,
 "nbformat_minor": 2
}
