{
 "cells": [
  {
   "cell_type": "code",
   "execution_count": 1,
   "metadata": {},
   "outputs": [
    {
     "name": "stdout",
     "output_type": "stream",
     "text": [
      "20\n",
      "12112212112122112122\n",
      "2 4 8 14\n"
     ]
    }
   ],
   "source": [
    "def zco():\n",
    "    N=int(input(\"\"))\n",
    "    list1=[\"\"]*N\n",
    "    list1=list(map(int,input(\"\")))\n",
    "    j=0\n",
    "    h=0\n",
    "    g=0\n",
    "    f=0\n",
    "    e=0\n",
    "    d=0\n",
    "    c=0\n",
    "    for i in range(N):\n",
    "        \n",
    "        f=f+1\n",
    "        \n",
    "        if g==0:\n",
    "            if h<f:\n",
    "                h=f\n",
    "                j=i\n",
    "                f=0\n",
    "        if list1[i]==1:\n",
    "            c=c+1\n",
    "            g=g+1\n",
    "        \n",
    "        if list1[i]==2:\n",
    "            g=g-1\n",
    "            if d<c:\n",
    "                d=c\n",
    "                e=i\n",
    "            c=0\n",
    "        \n",
    "        \n",
    "    print(d,e,h,j)\n",
    "\n",
    "zco()"
   ]
  },
  {
   "cell_type": "code",
   "execution_count": 17,
   "metadata": {},
   "outputs": [
    {
     "name": "stdout",
     "output_type": "stream",
     "text": [
      "20\n",
      "12112212112122112122\n",
      "2 4 8 14\n"
     ]
    }
   ],
   "source": [
    "zco()"
   ]
  },
  {
   "cell_type": "code",
   "execution_count": null,
   "metadata": {},
   "outputs": [],
   "source": []
  }
 ],
 "metadata": {
  "kernelspec": {
   "display_name": "Python 3",
   "language": "python",
   "name": "python3"
  },
  "language_info": {
   "codemirror_mode": {
    "name": "ipython",
    "version": 3
   },
   "file_extension": ".py",
   "mimetype": "text/x-python",
   "name": "python",
   "nbconvert_exporter": "python",
   "pygments_lexer": "ipython3",
   "version": "3.6.5"
  }
 },
 "nbformat": 4,
 "nbformat_minor": 2
}
