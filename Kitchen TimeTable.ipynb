{
 "cells": [
  {
   "cell_type": "code",
   "execution_count": 1,
   "metadata": {},
   "outputs": [
    {
     "name": "stdout",
     "output_type": "stream",
     "text": [
      "2 1\n"
     ]
    }
   ],
   "source": [
    "def kitchen():\n",
    "    T=int(input(\"\"))\n",
    "    list1=[\"\"]*T\n",
    "    for i in range(0,T):\n",
    "        N=int(input(\"\"))\n",
    "        list2=[\"\"]*N\n",
    "        list3=[\"\"]*N\n",
    "        c=input(\"\")\n",
    "        list2=list(map(int,c.split()))\n",
    "        f=input(\"\")\n",
    "        list3=list(map(int,f.split()))\n",
    "        d=list2[0]\n",
    "        for j in range(1,N):\n",
    "            e=list2[j]\n",
    "            list2[j]=list2[j]-d\n",
    "            d=e\n",
    "        r=0\n",
    "        for k in range(0,N):\n",
    "            if(list2[k]>=list3[k]):\n",
    "                r=r+1\n",
    "        list1[i]=r\n",
    "    print(*list1,sep='\\n')\n",
    "kitchen()"
   ]
  },
  {
   "cell_type": "markdown",
   "metadata": {},
   "source": [
    "# "
   ]
  }
 ],
 "metadata": {
  "kernelspec": {
   "display_name": "Python 3",
   "language": "python",
   "name": "python3"
  },
  "language_info": {
   "codemirror_mode": {
    "name": "ipython",
    "version": 3
   },
   "file_extension": ".py",
   "mimetype": "text/x-python",
   "name": "python",
   "nbconvert_exporter": "python",
   "pygments_lexer": "ipython3",
   "version": "3.6.5"
  }
 },
 "nbformat": 4,
 "nbformat_minor": 2
}
