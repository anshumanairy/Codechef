{
 "cells": [
  {
   "cell_type": "code",
   "execution_count": 12,
   "metadata": {},
   "outputs": [
    {
     "name": "stdout",
     "output_type": "stream",
     "text": [
      "NOT INDIAN\n",
      "INDIAN\n",
      "NOT SURE\n"
     ]
    }
   ],
   "source": [
    "import string\n",
    "def bob():\n",
    "    T=int(input(\"\"))\n",
    "    list1=[\"\"]*T\n",
    "    for i in range(0,T):\n",
    "        N=int(input(\"\"))\n",
    "        list2=[\"\"]*N\n",
    "        c=input(\"\")\n",
    "        list2=list(c)\n",
    "        d=0\n",
    "        e=0\n",
    "        for j in range(0,len(list2)):\n",
    "            if list2[j]==\"I\":\n",
    "                d=d+1\n",
    "            if list2[j]==\"Y\":\n",
    "                e=e+1\n",
    "        if d>0:\n",
    "            list1[i]=\"INDIAN\"\n",
    "        if (d==0 and e!=0):\n",
    "            list1[i]=\"NOT INDIAN\"\n",
    "        if (d==0 and e==0):\n",
    "            list1[i]=\"NOT SURE\"\n",
    "        \n",
    "    print(*list1,sep='\\n')\n",
    "bob()"
   ]
  },
  {
   "cell_type": "code",
   "execution_count": null,
   "metadata": {},
   "outputs": [],
   "source": []
  }
 ],
 "metadata": {
  "kernelspec": {
   "display_name": "Python 3",
   "language": "python",
   "name": "python3"
  },
  "language_info": {
   "codemirror_mode": {
    "name": "ipython",
    "version": 3
   },
   "file_extension": ".py",
   "mimetype": "text/x-python",
   "name": "python",
   "nbconvert_exporter": "python",
   "pygments_lexer": "ipython3",
   "version": "3.6.5"
  }
 },
 "nbformat": 4,
 "nbformat_minor": 2
}
