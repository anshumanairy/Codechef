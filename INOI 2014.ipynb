{
 "cells": [
  {
   "cell_type": "code",
   "execution_count": 3,
   "metadata": {},
   "outputs": [
    {
     "name": "stdout",
     "output_type": "stream",
     "text": [
      "5\n",
      "3\n",
      "1 2 3\n",
      "[[1, 2, 3], [''], ['']]\n",
      "3 2 1\n",
      "[[1, 2, 3], [3, 2, 1], ['']]\n",
      "2 2 2\n",
      "[[1, 2, 3], [3, 2, 1], [2, 2, 2]]\n"
     ]
    }
   ],
   "source": [
    "def inoi():\n",
    "    C=int(input(\"\"))\n",
    "    F=int(input(\"\"))\n",
    "    list1=[[\"\"]]*F\n",
    "    \n",
    "    for i in range (0,F):\n",
    "        x, y, z=map(int, input().split())\n",
    "        list1[i]=[x,y,z]\n",
    "    \n",
    "    for i in range(0,C):\n",
    "        for j in range(0,3):\n",
    "            if list1[i[j]]==i+1:\n",
    "                for k in range(i+2,C):\n",
    "                    \n",
    "        \n",
    "inoi()    \n",
    "    \n",
    "        "
   ]
  },
  {
   "cell_type": "code",
   "execution_count": null,
   "metadata": {},
   "outputs": [],
   "source": []
  }
 ],
 "metadata": {
  "kernelspec": {
   "display_name": "Python 3",
   "language": "python",
   "name": "python3"
  },
  "language_info": {
   "codemirror_mode": {
    "name": "ipython",
    "version": 3
   },
   "file_extension": ".py",
   "mimetype": "text/x-python",
   "name": "python",
   "nbconvert_exporter": "python",
   "pygments_lexer": "ipython3",
   "version": "3.6.5"
  }
 },
 "nbformat": 4,
 "nbformat_minor": 2
}
