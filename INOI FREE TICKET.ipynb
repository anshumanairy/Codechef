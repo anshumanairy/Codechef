{
 "cells": [
  {
   "cell_type": "code",
   "execution_count": null,
   "metadata": {},
   "outputs": [],
   "source": [
    "def city():\n",
    "    c=input(\"\")\n",
    "    C,F=map(int,c.split())\n",
    "    list1=[\"\"]*C*C\n",
    "    j=0\n",
    "    for i in range(0,F):\n",
    "        d=input(\"\")\n",
    "        x,y,p=map(int,d.split())\n",
    "        "
   ]
  }
 ],
 "metadata": {
  "kernelspec": {
   "display_name": "Python 3",
   "language": "python",
   "name": "python3"
  },
  "language_info": {
   "codemirror_mode": {
    "name": "ipython",
    "version": 3
   },
   "file_extension": ".py",
   "mimetype": "text/x-python",
   "name": "python",
   "nbconvert_exporter": "python",
   "pygments_lexer": "ipython3",
   "version": "3.6.5"
  }
 },
 "nbformat": 4,
 "nbformat_minor": 2
}
