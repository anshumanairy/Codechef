{
 "cells": [
  {
   "cell_type": "code",
   "execution_count": 2,
   "metadata": {},
   "outputs": [
    {
     "name": "stdout",
     "output_type": "stream",
     "text": [
      "3\n",
      "10 20\n",
      "20 10\n",
      "10 10\n",
      "=\n"
     ]
    }
   ],
   "source": [
    "T=int(input(\"\"))\n",
    "for i in range(0,T):\n",
    "    l1=[\"\"]*2\n",
    "    x=\"\"\n",
    "    r=input(\"\")\n",
    "    l1=list(map(int,r.split()))\n",
    "    if (l1[0]<l1[1]):\n",
    "        x=x+\"<\"\n",
    "    elif (l1[0]>l1[1]):\n",
    "        x=x+\">\"\n",
    "    else :\n",
    "        x=x+\"=\"\n",
    "print(x)"
   ]
  },
  {
   "cell_type": "code",
   "execution_count": null,
   "metadata": {},
   "outputs": [],
   "source": []
  }
 ],
 "metadata": {
  "kernelspec": {
   "display_name": "Python 3",
   "language": "python",
   "name": "python3"
  },
  "language_info": {
   "codemirror_mode": {
    "name": "ipython",
    "version": 3
   },
   "file_extension": ".py",
   "mimetype": "text/x-python",
   "name": "python",
   "nbconvert_exporter": "python",
   "pygments_lexer": "ipython3",
   "version": "3.6.5"
  }
 },
 "nbformat": 4,
 "nbformat_minor": 2
}
