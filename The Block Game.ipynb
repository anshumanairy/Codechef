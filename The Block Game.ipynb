{
 "cells": [
  {
   "cell_type": "code",
   "execution_count": 4,
   "metadata": {},
   "outputs": [
    {
     "name": "stdout",
     "output_type": "stream",
     "text": [
      "wins\n",
      "losses\n",
      "wins\n"
     ]
    }
   ],
   "source": [
    "def block():\n",
    "    T=int(input(\"\"))\n",
    "    list1=[\"\"]*T\n",
    "    for i in range(0,T):\n",
    "        N=int(input(\"\"))\n",
    "        n=N\n",
    "        s=0\n",
    "        while(n>0):\n",
    "            d=n%10\n",
    "            s=(s*10)+d\n",
    "            n=n//10\n",
    "        if s==N:\n",
    "            list1[i]=\"wins\"\n",
    "        else:\n",
    "            list1[i]=\"losses\"\n",
    "    print(*list1,sep='\\n')\n",
    "block()"
   ]
  },
  {
   "cell_type": "code",
   "execution_count": null,
   "metadata": {},
   "outputs": [],
   "source": []
  }
 ],
 "metadata": {
  "kernelspec": {
   "display_name": "Python 3",
   "language": "python",
   "name": "python3"
  },
  "language_info": {
   "codemirror_mode": {
    "name": "ipython",
    "version": 3
   },
   "file_extension": ".py",
   "mimetype": "text/x-python",
   "name": "python",
   "nbconvert_exporter": "python",
   "pygments_lexer": "ipython3",
   "version": "3.6.5"
  }
 },
 "nbformat": 4,
 "nbformat_minor": 2
}
