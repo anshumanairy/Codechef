{
 "cells": [
  {
   "cell_type": "code",
   "execution_count": 19,
   "metadata": {},
   "outputs": [
    {
     "name": "stdout",
     "output_type": "stream",
     "text": [
      "1\n",
      "378 299\n",
      "111 5571756\n"
     ]
    }
   ],
   "source": [
    "import math\n",
    "def card():\n",
    "    T=int(input(\"\"))\n",
    "    for i in range(0,T):\n",
    "        a, b = map(int, input().split())\n",
    "        x1=int(round((2*(a+b)+math.sqrt((4*((a+b)**2))-12*a*b))/6))\n",
    "        x2=int(round((2*(a+b)-math.sqrt((4*((a+b)**2))-12*a*b))/6))\n",
    "        x=min(x1,x2)\n",
    "        print(\"{} {}\".format(x,x*(a-x)*(b-x)))\n",
    "\n",
    "card()                            "
   ]
  },
  {
   "cell_type": "code",
   "execution_count": null,
   "metadata": {},
   "outputs": [],
   "source": []
  }
 ],
 "metadata": {
  "kernelspec": {
   "display_name": "Python 3",
   "language": "python",
   "name": "python3"
  },
  "language_info": {
   "codemirror_mode": {
    "name": "ipython",
    "version": 3
   },
   "file_extension": ".py",
   "mimetype": "text/x-python",
   "name": "python",
   "nbconvert_exporter": "python",
   "pygments_lexer": "ipython3",
   "version": "3.6.5"
  }
 },
 "nbformat": 4,
 "nbformat_minor": 2
}
