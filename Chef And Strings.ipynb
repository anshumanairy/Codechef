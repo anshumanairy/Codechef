{
 "cells": [
  {
   "cell_type": "code",
   "execution_count": 3,
   "metadata": {},
   "outputs": [
    {
     "name": "stdout",
     "output_type": "stream",
     "text": [
      "4\n",
      "hiker\n",
      "liker\n",
      "biker\n",
      "like\n",
      "2\n",
      "1 4 3 k\n",
      "4\n",
      "1 4 1 l\n",
      "2\n"
     ]
    }
   ],
   "source": [
    "def strings():\n",
    "    \n",
    "    N=int(input(\"\"))\n",
    "    list1=[\"\"]*N\n",
    "    for i in range(0,N):\n",
    "        list1[i]=input(\"\")\n",
    "    Q=int(input(\"\"))\n",
    "    while(Q!=0):\n",
    "        L, R, C, P = input().split()\n",
    "        L=int(L)\n",
    "        R=int(R)\n",
    "        C=int(C)\n",
    "        t=0\n",
    "        for j in range(L-1,R):\n",
    "            if P in list1[j]:\n",
    "                t=t+1\n",
    "        print (t)\n",
    "        Q=Q-1\n",
    "\n",
    "strings()"
   ]
  },
  {
   "cell_type": "code",
   "execution_count": null,
   "metadata": {},
   "outputs": [],
   "source": []
  }
 ],
 "metadata": {
  "kernelspec": {
   "display_name": "Python 3",
   "language": "python",
   "name": "python3"
  },
  "language_info": {
   "codemirror_mode": {
    "name": "ipython",
    "version": 3
   },
   "file_extension": ".py",
   "mimetype": "text/x-python",
   "name": "python",
   "nbconvert_exporter": "python",
   "pygments_lexer": "ipython3",
   "version": "3.6.5"
  }
 },
 "nbformat": 4,
 "nbformat_minor": 2
}
