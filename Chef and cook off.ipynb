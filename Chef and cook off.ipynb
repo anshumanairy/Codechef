{
 "cells": [
  {
   "cell_type": "code",
   "execution_count": 1,
   "metadata": {},
   "outputs": [
    {
     "name": "stdout",
     "output_type": "stream",
     "text": [
      "Beginner\n",
      "Middle Developer\n",
      "Junior Developer\n",
      "Jeff Dean\n",
      "Senior Developer\n",
      "Hacker\n",
      "Hacker\n"
     ]
    }
   ],
   "source": [
    "def cook():\n",
    "    N=int(input(\"\"))\n",
    "    list1=[\"\"]*N\n",
    "    for i in range(0,N):\n",
    "        list2=[\"\"]*5\n",
    "        c=input(\"\")\n",
    "        list2=list(map(int,c.split()))\n",
    "        d=0\n",
    "        for j in range(0,5):\n",
    "            if list2[j]==1:\n",
    "                d=d+1\n",
    "        if d==0:\n",
    "            list1[i]=\"Beginner\"\n",
    "        if d==1:\n",
    "            list1[i]=\"Junior Developer\"\n",
    "        if d==2:\n",
    "            list1[i]=\"Middle Developer\"\n",
    "        if d==3:\n",
    "            list1[i]=\"Senior Developer\"\n",
    "        if d==4:\n",
    "            list1[i]=\"Hacker\"\n",
    "        if d==5:\n",
    "            list1[i]=\"Jeff Dean\"\n",
    "    print(*list1,sep='\\n')\n",
    "cook()"
   ]
  },
  {
   "cell_type": "code",
   "execution_count": null,
   "metadata": {},
   "outputs": [],
   "source": []
  }
 ],
 "metadata": {
  "kernelspec": {
   "display_name": "Python 3",
   "language": "python",
   "name": "python3"
  },
  "language_info": {
   "codemirror_mode": {
    "name": "ipython",
    "version": 3
   },
   "file_extension": ".py",
   "mimetype": "text/x-python",
   "name": "python",
   "nbconvert_exporter": "python",
   "pygments_lexer": "ipython3",
   "version": "3.6.5"
  }
 },
 "nbformat": 4,
 "nbformat_minor": 2
}
