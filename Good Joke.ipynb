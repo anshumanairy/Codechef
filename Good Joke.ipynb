{
 "cells": [
  {
   "cell_type": "code",
   "execution_count": null,
   "metadata": {},
   "outputs": [],
   "source": [
    "def joke():\n",
    "    T=int(input(\"\"))\n",
    "    for i in range(0,T):\n",
    "        N=int(input(\"\"))\n",
    "        l1=[\"\"]*N\n",
    "        for j in range(0,N):\n",
    "            s=input(\"\")\n",
    "            l1=list(list(map(int,str(s).split())))\n",
    "            X=l1[0][0]\n",
    "            Y=l1[0][1]"
   ]
  }
 ],
 "metadata": {
  "kernelspec": {
   "display_name": "Python 3",
   "language": "python",
   "name": "python3"
  },
  "language_info": {
   "codemirror_mode": {
    "name": "ipython",
    "version": 3
   },
   "file_extension": ".py",
   "mimetype": "text/x-python",
   "name": "python",
   "nbconvert_exporter": "python",
   "pygments_lexer": "ipython3",
   "version": "3.6.5"
  }
 },
 "nbformat": 4,
 "nbformat_minor": 2
}
