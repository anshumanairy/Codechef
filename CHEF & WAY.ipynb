{
 "cells": [
  {
   "cell_type": "code",
   "execution_count": null,
   "metadata": {},
   "outputs": [],
   "source": [
    "def street():\n",
    "    s1=input(\"\")\n",
    "    N,K=map(int,str(s1).split())\n",
    "    l1=[\"\"]*N\n",
    "    s2=input(\"\")\n",
    "    l1=list(map(int,str(s2)))\n",
    "    for i in range(0,N):\n",
    "        d=0\n",
    "        for j in range(1,N):\n",
    "            z=l1[j]-l1[i]\n",
    "            if ((z>=1)and(z>K)):\n",
    "                "
   ]
  }
 ],
 "metadata": {
  "kernelspec": {
   "display_name": "Python 3",
   "language": "python",
   "name": "python3"
  },
  "language_info": {
   "codemirror_mode": {
    "name": "ipython",
    "version": 3
   },
   "file_extension": ".py",
   "mimetype": "text/x-python",
   "name": "python",
   "nbconvert_exporter": "python",
   "pygments_lexer": "ipython3",
   "version": "3.6.5"
  }
 },
 "nbformat": 4,
 "nbformat_minor": 2
}
