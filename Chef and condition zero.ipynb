{
 "cells": [
  {
   "cell_type": "code",
   "execution_count": null,
   "metadata": {},
   "outputs": [],
   "source": [
    "def condition:\n",
    "    l1=[\"\"]*3\n",
    "    s1=input(\"\")\n",
    "    l1=list(map(int,str(s1).split()))\n",
    "    N=l1[0]\n",
    "    M=l1[1]\n",
    "    K=l1[2]\n",
    "    l2=[\"\"]*N*M\n",
    "    for i in range(0,N):\n",
    "        s2=input(\"\")\n",
    "        l2=list(map(int,str(s2).split()))\n",
    "        "
   ]
  }
 ],
 "metadata": {
  "kernelspec": {
   "display_name": "Python 3",
   "language": "python",
   "name": "python3"
  },
  "language_info": {
   "codemirror_mode": {
    "name": "ipython",
    "version": 3
   },
   "file_extension": ".py",
   "mimetype": "text/x-python",
   "name": "python",
   "nbconvert_exporter": "python",
   "pygments_lexer": "ipython3",
   "version": "3.6.5"
  }
 },
 "nbformat": 4,
 "nbformat_minor": 2
}
