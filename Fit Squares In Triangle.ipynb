{
 "cells": [
  {
   "cell_type": "code",
   "execution_count": 33,
   "metadata": {},
   "outputs": [
    {
     "name": "stdout",
     "output_type": "stream",
     "text": [
      "11\n",
      "1\n",
      "2\n",
      "3\n",
      "4\n",
      "5\n",
      "6\n",
      "7\n",
      "8\n",
      "9\n",
      "10\n",
      "11\n",
      "0\n",
      "0\n",
      "0\n",
      "1\n",
      "1\n",
      "3\n",
      "3\n",
      "6\n",
      "6\n",
      "10\n",
      "10\n"
     ]
    }
   ],
   "source": [
    "import math\n",
    "def fit():\n",
    "    T=int(input(\"\"))\n",
    "    l1=[\"\"]*T\n",
    "    j=1\n",
    "    k=0\n",
    "    t=0\n",
    "    for i in range(0,T):\n",
    "        B=int(input(\"\"))\n",
    "        n=(B/4)\n",
    "        n=math.floor(n)\n",
    "        if n<1:\n",
    "            l1[i]=0\n",
    "        elif (n==1 and B%4<2):\n",
    "            l1[i]=1\n",
    "        else:\n",
    "            if k==0:\n",
    "                n=n+(2**j)\n",
    "                t=n\n",
    "                l1[i]=n\n",
    "                k=1\n",
    "            else:\n",
    "                k=0\n",
    "                l1[i]=t\n",
    "                j=j+1\n",
    "    for i in range(0,T):\n",
    "        print (l1[i])\n",
    "fit()"
   ]
  },
  {
   "cell_type": "code",
   "execution_count": null,
   "metadata": {},
   "outputs": [],
   "source": []
  }
 ],
 "metadata": {
  "kernelspec": {
   "display_name": "Python 3",
   "language": "python",
   "name": "python3"
  },
  "language_info": {
   "codemirror_mode": {
    "name": "ipython",
    "version": 3
   },
   "file_extension": ".py",
   "mimetype": "text/x-python",
   "name": "python",
   "nbconvert_exporter": "python",
   "pygments_lexer": "ipython3",
   "version": "3.6.5"
  }
 },
 "nbformat": 4,
 "nbformat_minor": 2
}
