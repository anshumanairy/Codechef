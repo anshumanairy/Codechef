{
 "cells": [
  {
   "cell_type": "code",
   "execution_count": 4,
   "metadata": {},
   "outputs": [
    {
     "name": "stdout",
     "output_type": "stream",
     "text": [
      "12\n",
      "5\n",
      "7\n"
     ]
    }
   ],
   "source": [
    "def note():\n",
    "    T=int(input(\"\"))\n",
    "    \n",
    "    l1=[\"\"]*T\n",
    "    for i in range(0,T):\n",
    "        N=int(input(\"\"))\n",
    "        k=0\n",
    "        d=N/100\n",
    "        k=k+int(d)\n",
    "        N=N%100\n",
    "        \n",
    "        d=int(N)/50\n",
    "        k=k+int(d)\n",
    "        N=N%50\n",
    "        \n",
    "        d=int(N)/10\n",
    "        k=k+int(d)\n",
    "        N=N%10\n",
    "        \n",
    "        d=int(N)/5\n",
    "        k=k+int(d)\n",
    "        N=N%5\n",
    "        \n",
    "        d=int(N)/2\n",
    "        k=k+int(d)\n",
    "        N=N%2\n",
    "        \n",
    "        d=int(N)/1\n",
    "        k=k+int(d)\n",
    "        N=N%1\n",
    "        \n",
    "        l1[i]=k\n",
    "    print(*l1,sep='\\n')\n",
    "note()"
   ]
  },
  {
   "cell_type": "markdown",
   "metadata": {},
   "source": []
  }
 ],
 "metadata": {
  "kernelspec": {
   "display_name": "Python 3",
   "language": "python",
   "name": "python3"
  },
  "language_info": {
   "codemirror_mode": {
    "name": "ipython",
    "version": 3
   },
   "file_extension": ".py",
   "mimetype": "text/x-python",
   "name": "python",
   "nbconvert_exporter": "python",
   "pygments_lexer": "ipython3",
   "version": "3.6.5"
  }
 },
 "nbformat": 4,
 "nbformat_minor": 2
}
