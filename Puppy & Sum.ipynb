{
 "cells": [
  {
   "cell_type": "code",
   "execution_count": 3,
   "metadata": {},
   "outputs": [
    {
     "name": "stdout",
     "output_type": "stream",
     "text": [
      "6\n",
      "6\n"
     ]
    }
   ],
   "source": [
    "def sum1():\n",
    "    T=int(input(''))\n",
    "    list1=[\"\"]*T\n",
    "    for i in range(0,T):\n",
    "        r=input(\"\")\n",
    "        D,N=map(int,r.split())\n",
    "        k=0\n",
    "        sum=N\n",
    "        while(D!=0):\n",
    "            for j in range(0,sum):\n",
    "                k=k+j\n",
    "            sum=k\n",
    "            D=D-1\n",
    "        list1[i]=k\n",
    "    print(*list1,sep='\\n')\n",
    "sum1()"
   ]
  },
  {
   "cell_type": "code",
   "execution_count": null,
   "metadata": {},
   "outputs": [],
   "source": []
  }
 ],
 "metadata": {
  "kernelspec": {
   "display_name": "Python 3",
   "language": "python",
   "name": "python3"
  },
  "language_info": {
   "codemirror_mode": {
    "name": "ipython",
    "version": 3
   },
   "file_extension": ".py",
   "mimetype": "text/x-python",
   "name": "python",
   "nbconvert_exporter": "python",
   "pygments_lexer": "ipython3",
   "version": "3.6.5"
  }
 },
 "nbformat": 4,
 "nbformat_minor": 2
}
