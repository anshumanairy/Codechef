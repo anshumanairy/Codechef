{
 "cells": [
  {
   "cell_type": "code",
   "execution_count": 14,
   "metadata": {},
   "outputs": [
    {
     "name": "stdout",
     "output_type": "stream",
     "text": [
      "7\n",
      "9\n",
      "1\n"
     ]
    }
   ],
   "source": [
    "import random\n",
    "def employ():\n",
    "    T=int(input(\"\"))\n",
    "    list1=[\"\"]*T\n",
    "    for i in range(0,T):\n",
    "        c=input(\"\")\n",
    "        N,K=map(int,c.split())\n",
    "        list2=[\"\"]*N\n",
    "        d=input(\"\")\n",
    "        list2= list(map(int,d.split()))\n",
    "        list2.sort()\n",
    "        z=list2[N-1]\n",
    "        for j in range(0,K):\n",
    "            x=random.randint(z+1,z+10)\n",
    "            list2.append(x)\n",
    "        list2.sort()\n",
    "        if (len(list2)%2==0):\n",
    "            y=((len(list2)/2)+((len(list2)/2)+1))/2\n",
    "            list1[i]=list2[int(y)-1]\n",
    "        else:\n",
    "            y=(len(list2)+1)/2\n",
    "            list1[i]=list2[int(y)-1]\n",
    "    print(*list1,sep='\\n')\n",
    "employ()"
   ]
  },
  {
   "cell_type": "code",
   "execution_count": null,
   "metadata": {},
   "outputs": [],
   "source": []
  }
 ],
 "metadata": {
  "kernelspec": {
   "display_name": "Python 3",
   "language": "python",
   "name": "python3"
  },
  "language_info": {
   "codemirror_mode": {
    "name": "ipython",
    "version": 3
   },
   "file_extension": ".py",
   "mimetype": "text/x-python",
   "name": "python",
   "nbconvert_exporter": "python",
   "pygments_lexer": "ipython3",
   "version": "3.6.5"
  }
 },
 "nbformat": 4,
 "nbformat_minor": 2
}
