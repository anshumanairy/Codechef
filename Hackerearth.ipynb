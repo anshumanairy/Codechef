{
 "cells": [
  {
   "cell_type": "code",
   "execution_count": 1,
   "metadata": {},
   "outputs": [
    {
     "name": "stdout",
     "output_type": "stream",
     "text": [
      "1\n",
      "2\n",
      "5 1\n",
      "1 2\n",
      "7\n"
     ]
    }
   ],
   "source": [
    "T=int(input())\n",
    "sum=0\n",
    "# L=[]\n",
    "# C=[]\n",
    "for i in range(0,T):\n",
    "    N=int(input())\n",
    "    \n",
    "    \n",
    "    C=[\"\"]*N\n",
    "    s=input(\"\")\n",
    "    C=list(map(int,str(s).split()))\n",
    "    \n",
    "    \n",
    "#     for i in range(0,N):\n",
    "#         s=input()\n",
    "#         s1=int(s)\n",
    "#         C.append(s1)\n",
    "    \n",
    "    L=[\"\"]*N\n",
    "    t=input(\"\")\n",
    "    L=list(map(int,str(t).split()))\n",
    "    \n",
    "    \n",
    "    \n",
    "#     for k in range(0,N):\n",
    "#         t=input()\n",
    "#         t1=int(t)\n",
    "#         L.append(t1)\n",
    "    \n",
    "    \n",
    "    \n",
    "    h=0\n",
    "    g=0\n",
    "    sum=0\n",
    "    h=C[0]\n",
    "    for i in range(0,N):\n",
    "        if h>C[i]:\n",
    "            h=C[i]\n",
    "        sum=sum+h*L[i]\n",
    "    \n",
    "\n",
    "    \n",
    "    print (sum)\n"
   ]
  },
  {
   "cell_type": "code",
   "execution_count": null,
   "metadata": {},
   "outputs": [],
   "source": []
  }
 ],
 "metadata": {
  "kernelspec": {
   "display_name": "Python 3",
   "language": "python",
   "name": "python3"
  },
  "language_info": {
   "codemirror_mode": {
    "name": "ipython",
    "version": 3
   },
   "file_extension": ".py",
   "mimetype": "text/x-python",
   "name": "python",
   "nbconvert_exporter": "python",
   "pygments_lexer": "ipython3",
   "version": "3.6.5"
  }
 },
 "nbformat": 4,
 "nbformat_minor": 2
}
