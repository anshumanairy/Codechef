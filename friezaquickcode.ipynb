{
 "cells": [
  {
   "cell_type": "code",
   "execution_count": null,
   "metadata": {},
   "outputs": [],
   "source": [
    "def frieza():\n",
    "    T=int(input(\"\"))\n",
    "    list1=[\"\"]*T\n",
    "    str=\"\"\n",
    "    for i in range(0,T):\n",
    "        list1[i]=input()\n",
    "        for j in range(0,len(list[i])):\n",
    "            if list1[i][j]=='f'or'r'or'i'or'e'or'z'or'a':\n",
    "                \n",
    "                \n",
    "    "
   ]
  }
 ],
 "metadata": {
  "kernelspec": {
   "display_name": "Python 3",
   "language": "python",
   "name": "python3"
  },
  "language_info": {
   "codemirror_mode": {
    "name": "ipython",
    "version": 3
   },
   "file_extension": ".py",
   "mimetype": "text/x-python",
   "name": "python",
   "nbconvert_exporter": "python",
   "pygments_lexer": "ipython3",
   "version": "3.6.5"
  }
 },
 "nbformat": 4,
 "nbformat_minor": 2
}
