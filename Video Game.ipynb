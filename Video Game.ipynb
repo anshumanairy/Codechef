{
 "cells": [
  {
   "cell_type": "code",
   "execution_count": null,
   "metadata": {},
   "outputs": [
    {
     "name": "stdout",
     "output_type": "stream",
     "text": [
      "7 4\n"
     ]
    }
   ],
   "source": [
    "def game():\n",
    "    list1=[\"\"]*2\n",
    "    r=input(\"\")\n",
    "    l1=list(map(int,str(r).split()))\n",
    "    w=l1[0]\n",
    "    h=l1[1]\n",
    "    l2=[\"\"]*w\n",
    "    s=input(\"\")\n",
    "    l2=list(map(int,str(s).split()))\n",
    "    c=input(\"\")\n",
    "    l3=[\"\"]*len(c)\n",
    "    l3=list(map(int,str(c).split()))\n",
    "    x=0\n",
    "    t=0\n",
    "    for i in range(0,len(c)):\n",
    "        \n",
    "        if l3[i]==0:\n",
    "            break\n",
    "        if l3[i]==1 and t!=0:\n",
    "            t=t-1\n",
    "        if l3[i]==2 and t<w-1:\n",
    "            t=t+1\n",
    "        if l3[i]==3 and x==0 and l2[t]!=0:\n",
    "            l2[t]=l2[t]-1\n",
    "            x=1\n",
    "        if l3[i]==4 and x==1 and l2[t]<h:\n",
    "            l2[t]=l2[t]+1\n",
    "            x=0\n",
    "    print(' '.join(map(str,l2)))\n",
    "game()"
   ]
  },
  {
   "cell_type": "code",
   "execution_count": null,
   "metadata": {},
   "outputs": [],
   "source": []
  }
 ],
 "metadata": {
  "kernelspec": {
   "display_name": "Python 3",
   "language": "python",
   "name": "python3"
  },
  "language_info": {
   "codemirror_mode": {
    "name": "ipython",
    "version": 3
   },
   "file_extension": ".py",
   "mimetype": "text/x-python",
   "name": "python",
   "nbconvert_exporter": "python",
   "pygments_lexer": "ipython3",
   "version": "3.6.5"
  }
 },
 "nbformat": 4,
 "nbformat_minor": 2
}
